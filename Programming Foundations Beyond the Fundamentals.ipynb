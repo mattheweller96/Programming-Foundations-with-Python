{
 "cells": [
  {
   "cell_type": "markdown",
   "metadata": {},
   "source": [
    "# Collections"
   ]
  },
  {
   "cell_type": "markdown",
   "metadata": {},
   "source": [
    "### Lists"
   ]
  },
  {
   "cell_type": "code",
   "execution_count": 1,
   "metadata": {},
   "outputs": [],
   "source": [
    "# city1 = 'Tokyo'\n",
    "# city2 = 'Dakar'\n",
    "# city3 = 'Mumbai'\n",
    "# city4 = 'Buenos Aires'\n",
    "\n",
    "cities = [\n",
    "    'Tokyo',\n",
    "    'Dakar',\n",
    "    'Mumbai',\n",
    "    'Buenos Aires',\n",
    "]\n"
   ]
  },
  {
   "cell_type": "markdown",
   "metadata": {},
   "source": [
    "### Dictionary"
   ]
  },
  {
   "cell_type": "code",
   "execution_count": 2,
   "metadata": {},
   "outputs": [],
   "source": [
    "# Collection of key-value pairs\n",
    "\n",
    "food = {\n",
    "    'appetizer': 'hummus',\n",
    "    'entree': 'gyro wraps',\n",
    "    'desert': 'baklava',\n",
    "}"
   ]
  },
  {
   "cell_type": "markdown",
   "metadata": {},
   "source": [
    "## Working with Collections"
   ]
  },
  {
   "cell_type": "markdown",
   "metadata": {},
   "source": [
    "### Indexing a List"
   ]
  },
  {
   "cell_type": "code",
   "execution_count": 3,
   "metadata": {},
   "outputs": [
    {
     "data": {
      "text/plain": [
       "'Tokyo'"
      ]
     },
     "execution_count": 3,
     "metadata": {},
     "output_type": "execute_result"
    }
   ],
   "source": [
    "cities[0]"
   ]
  },
  {
   "cell_type": "code",
   "execution_count": 4,
   "metadata": {},
   "outputs": [
    {
     "ename": "IndexError",
     "evalue": "list index out of range",
     "output_type": "error",
     "traceback": [
      "\u001b[1;31m---------------------------------------------------------------------------\u001b[0m",
      "\u001b[1;31mIndexError\u001b[0m                                Traceback (most recent call last)",
      "\u001b[1;32m<ipython-input-4-fa6e308bf813>\u001b[0m in \u001b[0;36m<module>\u001b[1;34m\u001b[0m\n\u001b[1;32m----> 1\u001b[1;33m \u001b[0mcities\u001b[0m\u001b[1;33m[\u001b[0m\u001b[1;36m5\u001b[0m\u001b[1;33m]\u001b[0m \u001b[1;31m#out of range index\u001b[0m\u001b[1;33m\u001b[0m\u001b[1;33m\u001b[0m\u001b[0m\n\u001b[0m",
      "\u001b[1;31mIndexError\u001b[0m: list index out of range"
     ]
    }
   ],
   "source": [
    "cities[5] #out of range index"
   ]
  },
  {
   "cell_type": "code",
   "execution_count": 5,
   "metadata": {},
   "outputs": [
    {
     "data": {
      "text/plain": [
       "'Buenos Aires'"
      ]
     },
     "execution_count": 5,
     "metadata": {},
     "output_type": "execute_result"
    }
   ],
   "source": [
    "cities[-1] #indexing in reverse order"
   ]
  },
  {
   "cell_type": "markdown",
   "metadata": {},
   "source": [
    "### Referencing Labels in a Dictionary"
   ]
  },
  {
   "cell_type": "code",
   "execution_count": 6,
   "metadata": {},
   "outputs": [
    {
     "data": {
      "text/plain": [
       "'baklava'"
      ]
     },
     "execution_count": 6,
     "metadata": {},
     "output_type": "execute_result"
    }
   ],
   "source": [
    "food['desert']"
   ]
  },
  {
   "cell_type": "markdown",
   "metadata": {},
   "source": [
    "### Example"
   ]
  },
  {
   "cell_type": "code",
   "execution_count": 7,
   "metadata": {},
   "outputs": [
    {
     "name": "stdout",
     "output_type": "stream",
     "text": [
      "The fourth nearest star is  Wolf 359\n",
      "The highest peak on the Pacific plate is  Mauna Kea\n"
     ]
    }
   ],
   "source": [
    "stars = [\n",
    "    'Sol',\n",
    "    'Alpha Centauri',\n",
    "    'Barnard',\n",
    "    'Wolf 359',\n",
    "]\n",
    "\n",
    "print('The fourth nearest star is ', stars[3])\n",
    "\n",
    "peaks = {\n",
    "    'African' : 'Kilimanjaro',\n",
    "    'Antarctic' : 'Vinson',\n",
    "    'Australian' : 'Puncak Jaya',\n",
    "    'Eurasian' : 'Everest',\n",
    "    'North_American' : 'Denali',\n",
    "    'Pacific' : 'Mauna Kea',\n",
    "    'South_American' : 'Aconcagua',\n",
    "}\n",
    "\n",
    "print('The highest peak on the Pacific plate is ', peaks['Pacific'])"
   ]
  },
  {
   "cell_type": "markdown",
   "metadata": {},
   "source": [
    "## Working with Iterations"
   ]
  },
  {
   "cell_type": "markdown",
   "metadata": {},
   "source": [
    "### Iterating through Collections"
   ]
  },
  {
   "cell_type": "code",
   "execution_count": 8,
   "metadata": {},
   "outputs": [
    {
     "name": "stdout",
     "output_type": "stream",
     "text": [
      "salt\n",
      "pepper\n",
      "cumin\n",
      "turmeric\n"
     ]
    }
   ],
   "source": [
    "spices = [\n",
    "    'salt',\n",
    "    'pepper',\n",
    "    'cumin',\n",
    "    'turmeric',\n",
    "]\n",
    "\n",
    "for spice in spices:\n",
    "    print(spice)"
   ]
  },
  {
   "cell_type": "markdown",
   "metadata": {},
   "source": [
    "### Iterating through Collections with Custom Endpoint"
   ]
  },
  {
   "cell_type": "code",
   "execution_count": 9,
   "metadata": {},
   "outputs": [
    {
     "name": "stdout",
     "output_type": "stream",
     "text": [
      "5\n",
      "10\n",
      "15\n",
      "20\n",
      "25\n",
      "30\n",
      "35\n",
      "40\n",
      "45\n",
      "50\n",
      "55\n",
      "60\n",
      "65\n",
      "70\n",
      "75\n",
      "80\n",
      "85\n",
      "90\n",
      "95\n",
      "100\n"
     ]
    }
   ],
   "source": [
    "i = 5\n",
    "while i<= 100:\n",
    "    print(i)\n",
    "    i+=5"
   ]
  },
  {
   "cell_type": "markdown",
   "metadata": {},
   "source": [
    "### Example"
   ]
  },
  {
   "cell_type": "code",
   "execution_count": 10,
   "metadata": {},
   "outputs": [
    {
     "name": "stdout",
     "output_type": "stream",
     "text": [
      "Our fruit selection\n",
      "apples\n",
      "bananas\n",
      "dragon fruit\n",
      "mangos\n",
      "nectarines\n",
      "pears\n"
     ]
    }
   ],
   "source": [
    "fruits = [\n",
    "    'apples',\n",
    "    'bananas',\n",
    "    'dragon fruit',\n",
    "    'mangos',\n",
    "    'nectarines',\n",
    "    'pears',\n",
    "]\n",
    "\n",
    "print('Our fruit selection')\n",
    "for fruit in fruits:\n",
    "    print(fruit)"
   ]
  },
  {
   "cell_type": "markdown",
   "metadata": {},
   "source": [
    "## Using External Code"
   ]
  },
  {
   "cell_type": "markdown",
   "metadata": {},
   "source": [
    "### Modules"
   ]
  },
  {
   "cell_type": "code",
   "execution_count": 11,
   "metadata": {},
   "outputs": [],
   "source": [
    "### 1. create file 'testmodule.py' with the following code:\n",
    "###    def mult(x, y):\n",
    "###      print(f'{x} * {y} = {x * y}')\n",
    "\n",
    "### 2. in same file directory, create 'app.py' with the following code:\n",
    "###    import testmodule\n",
    "###    testmodule.mult(10,5)"
   ]
  },
  {
   "cell_type": "code",
   "execution_count": 12,
   "metadata": {},
   "outputs": [],
   "source": [
    "### For external Python packages, check out pypi.org"
   ]
  },
  {
   "cell_type": "markdown",
   "metadata": {},
   "source": [
    "## Working with Strings"
   ]
  },
  {
   "cell_type": "markdown",
   "metadata": {},
   "source": [
    "#### Combining and Manipulating Strings"
   ]
  },
  {
   "cell_type": "code",
   "execution_count": 13,
   "metadata": {},
   "outputs": [
    {
     "name": "stdout",
     "output_type": "stream",
     "text": [
      "CatDog\n"
     ]
    }
   ],
   "source": [
    "### Concatenation\n",
    "print('Cat'+'Dog')"
   ]
  },
  {
   "cell_type": "code",
   "execution_count": 17,
   "metadata": {},
   "outputs": [
    {
     "name": "stdout",
     "output_type": "stream",
     "text": [
      "Enter a number: 20\n",
      "20 is my favorite number!\n",
      "When you multiply it by 10, this is what you get:\n",
      "20202020202020202020\n",
      "When you multiply it by 10 after changing to integer type, this is what you get:\n",
      "200\n"
     ]
    }
   ],
   "source": [
    "value = input('Enter a number: ')\n",
    "print(value + ' is my favorite number!')\n",
    "print('When you multiply it by 10, this is what you get:')\n",
    "print(value*10)\n",
    "value_int = int(value)\n",
    "print('When you multiply it by 10 after changing to integer type, this is what you get:')\n",
    "print(value_int*10)"
   ]
  },
  {
   "cell_type": "markdown",
   "metadata": {},
   "source": [
    "#### Finding patterns"
   ]
  },
  {
   "cell_type": "code",
   "execution_count": 19,
   "metadata": {},
   "outputs": [
    {
     "name": "stdout",
     "output_type": "stream",
     "text": [
      "Malala\n",
      "Yousafzai\n"
     ]
    }
   ],
   "source": [
    "first_name = 'malala'\n",
    "last_name = 'yousafzai'\n",
    "note = 'award: Nobel Peace Prize'\n",
    "\n",
    "first_name_cap = first_name.capitalize()\n",
    "last_name_cap = last_name.capitalize()\n",
    "\n",
    "print(first_name_cap)\n",
    "print(last_name_cap)"
   ]
  },
  {
   "cell_type": "code",
   "execution_count": 21,
   "metadata": {},
   "outputs": [
    {
     "name": "stdout",
     "output_type": "stream",
     "text": [
      "0\n"
     ]
    }
   ],
   "source": [
    "award_location = note.find('award: ')\n",
    "print(award_location)"
   ]
  },
  {
   "cell_type": "code",
   "execution_count": 22,
   "metadata": {},
   "outputs": [
    {
     "name": "stdout",
     "output_type": "stream",
     "text": [
      "Nobel Peace Prize\n"
     ]
    }
   ],
   "source": [
    "### Slicing\n",
    "award_text = note[7:]\n",
    "print(award_text)"
   ]
  },
  {
   "cell_type": "markdown",
   "metadata": {},
   "source": [
    "#### Regular Expressions"
   ]
  },
  {
   "cell_type": "code",
   "execution_count": 24,
   "metadata": {},
   "outputs": [
    {
     "name": "stdout",
     "output_type": "stream",
     "text": [
      "<re.Match object; span=(0, 5), match='98101'>\n",
      "<re.Match object; span=(0, 5), match='98101'>\n",
      "None\n"
     ]
    }
   ],
   "source": [
    "import re\n",
    "\n",
    "five_digit_zip = '98101'\n",
    "nine_digit_zip = '98101-0003'\n",
    "phone_number = '234-567-8901'\n",
    "\n",
    "five_digit_expression = r'\\d{5}'\n",
    "print(re.search(five_digit_expression, five_digit_zip))\n",
    "print(re.search(five_digit_expression, nine_digit_zip))\n",
    "print(re.search(five_digit_expression, phone_number))"
   ]
  },
  {
   "cell_type": "markdown",
   "metadata": {},
   "source": [
    "#### Example"
   ]
  },
  {
   "cell_type": "code",
   "execution_count": 1,
   "metadata": {},
   "outputs": [
    {
     "name": "stdout",
     "output_type": "stream",
     "text": [
      "Enter a distance in miles: 123\n",
      "That is equal to  197.94931200000002  kilometers.\n"
     ]
    }
   ],
   "source": [
    "miles = input('Enter a distance in miles: ')\n",
    "miles_value = float(miles)\n",
    "kilometers_value = miles_value * 1.609344\n",
    "print('That is equal to ', kilometers_value, ' kilometers.')"
   ]
  },
  {
   "cell_type": "markdown",
   "metadata": {},
   "source": [
    "## Input and Output"
   ]
  },
  {
   "cell_type": "code",
   "execution_count": null,
   "metadata": {},
   "outputs": [],
   "source": []
  }
 ],
 "metadata": {
  "kernelspec": {
   "display_name": "Python 3",
   "language": "python",
   "name": "python3"
  },
  "language_info": {
   "codemirror_mode": {
    "name": "ipython",
    "version": 3
   },
   "file_extension": ".py",
   "mimetype": "text/x-python",
   "name": "python",
   "nbconvert_exporter": "python",
   "pygments_lexer": "ipython3",
   "version": "3.7.1"
  }
 },
 "nbformat": 4,
 "nbformat_minor": 2
}
