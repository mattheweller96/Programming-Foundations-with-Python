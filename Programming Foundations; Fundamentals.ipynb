{
 "cells": [
  {
   "cell_type": "code",
   "execution_count": 1,
   "metadata": {},
   "outputs": [
    {
     "name": "stdout",
     "output_type": "stream",
     "text": [
      "Hello, world!\n"
     ]
    }
   ],
   "source": [
    "print(\"Hello, world!\")"
   ]
  },
  {
   "cell_type": "code",
   "execution_count": 2,
   "metadata": {},
   "outputs": [
    {
     "name": "stdout",
     "output_type": "stream",
     "text": [
      "Hello, world!\n"
     ]
    }
   ],
   "source": [
    "message = \"Hello, world!\"\n",
    "print(message)"
   ]
  },
  {
   "cell_type": "code",
   "execution_count": 3,
   "metadata": {},
   "outputs": [
    {
     "data": {
      "text/plain": [
       "str"
      ]
     },
     "execution_count": 3,
     "metadata": {},
     "output_type": "execute_result"
    }
   ],
   "source": [
    "type(message)"
   ]
  },
  {
   "cell_type": "code",
   "execution_count": 5,
   "metadata": {},
   "outputs": [
    {
     "name": "stdout",
     "output_type": "stream",
     "text": [
      "['False', 'None', 'True', 'and', 'as', 'assert', 'async', 'await', 'break', 'class', 'continue', 'def', 'del', 'elif', 'else', 'except', 'finally', 'for', 'from', 'global', 'if', 'import', 'in', 'is', 'lambda', 'nonlocal', 'not', 'or', 'pass', 'raise', 'return', 'try', 'while', 'with', 'yield']\n"
     ]
    }
   ],
   "source": [
    "import keyword\n",
    "print(keyword.kwlist)"
   ]
  },
  {
   "cell_type": "code",
   "execution_count": 14,
   "metadata": {},
   "outputs": [
    {
     "name": "stdout",
     "output_type": "stream",
     "text": [
      "5\n"
     ]
    },
    {
     "data": {
      "text/plain": [
       "int"
      ]
     },
     "execution_count": 14,
     "metadata": {},
     "output_type": "execute_result"
    }
   ],
   "source": [
    "print(2+3)\n",
    "type(2+3)"
   ]
  },
  {
   "cell_type": "code",
   "execution_count": 13,
   "metadata": {},
   "outputs": [
    {
     "name": "stdout",
     "output_type": "stream",
     "text": [
      "1.5\n"
     ]
    },
    {
     "data": {
      "text/plain": [
       "float"
      ]
     },
     "execution_count": 13,
     "metadata": {},
     "output_type": "execute_result"
    }
   ],
   "source": [
    "print(3/2)\n",
    "type(3/2)"
   ]
  },
  {
   "cell_type": "code",
   "execution_count": 12,
   "metadata": {},
   "outputs": [
    {
     "name": "stdout",
     "output_type": "stream",
     "text": [
      "1\n"
     ]
    },
    {
     "data": {
      "text/plain": [
       "int"
      ]
     },
     "execution_count": 12,
     "metadata": {},
     "output_type": "execute_result"
    }
   ],
   "source": [
    "print(3//2)\n",
    "type(3//2)"
   ]
  },
  {
   "cell_type": "code",
   "execution_count": 11,
   "metadata": {},
   "outputs": [
    {
     "name": "stdout",
     "output_type": "stream",
     "text": [
      "1\n"
     ]
    },
    {
     "data": {
      "text/plain": [
       "int"
      ]
     },
     "execution_count": 11,
     "metadata": {},
     "output_type": "execute_result"
    }
   ],
   "source": [
    "print(5%2)\n",
    "type(5%2)"
   ]
  },
  {
   "cell_type": "code",
   "execution_count": 22,
   "metadata": {},
   "outputs": [
    {
     "name": "stdout",
     "output_type": "stream",
     "text": [
      "8\n"
     ]
    },
    {
     "data": {
      "text/plain": [
       "int"
      ]
     },
     "execution_count": 22,
     "metadata": {},
     "output_type": "execute_result"
    }
   ],
   "source": [
    "print(2**3)\n",
    "type(2**3)"
   ]
  },
  {
   "cell_type": "code",
   "execution_count": 15,
   "metadata": {},
   "outputs": [
    {
     "name": "stdout",
     "output_type": "stream",
     "text": [
      "He said, \"How yall doing?\"\n"
     ]
    }
   ],
   "source": [
    "print('He said, \"How yall doing?\"')"
   ]
  },
  {
   "cell_type": "code",
   "execution_count": 16,
   "metadata": {},
   "outputs": [
    {
     "name": "stdout",
     "output_type": "stream",
     "text": [
      "Carl's llama\n"
     ]
    }
   ],
   "source": [
    "print(\"Carl's llama\")"
   ]
  },
  {
   "cell_type": "code",
   "execution_count": 19,
   "metadata": {},
   "outputs": [
    {
     "name": "stdout",
     "output_type": "stream",
     "text": [
      "Hello!\n",
      "What is your name? Carl\n",
      "Nice to meet you,  Carl\n"
     ]
    }
   ],
   "source": [
    "print(\"Hello!\")\n",
    "name = input(\"What is your name? \")\n",
    "print(\"Nice to meet you, \", name)"
   ]
  },
  {
   "cell_type": "code",
   "execution_count": 20,
   "metadata": {},
   "outputs": [],
   "source": [
    "# this is how to add comments"
   ]
  },
  {
   "cell_type": "code",
   "execution_count": 21,
   "metadata": {},
   "outputs": [
    {
     "name": "stdout",
     "output_type": "stream",
     "text": [
      "Practice with comments\n"
     ]
    }
   ],
   "source": [
    "print(\"Practice with comments\") # Adding comments on the same line as code"
   ]
  },
  {
   "cell_type": "code",
   "execution_count": 23,
   "metadata": {},
   "outputs": [
    {
     "data": {
      "text/plain": [
       "False"
      ]
     },
     "execution_count": 23,
     "metadata": {},
     "output_type": "execute_result"
    }
   ],
   "source": [
    "4==2*3"
   ]
  },
  {
   "cell_type": "code",
   "execution_count": 24,
   "metadata": {},
   "outputs": [
    {
     "data": {
      "text/plain": [
       "True"
      ]
     },
     "execution_count": 24,
     "metadata": {},
     "output_type": "execute_result"
    }
   ],
   "source": [
    "4!=3*2"
   ]
  },
  {
   "cell_type": "code",
   "execution_count": 26,
   "metadata": {},
   "outputs": [
    {
     "name": "stdout",
     "output_type": "stream",
     "text": [
      "23 is odd\n"
     ]
    }
   ],
   "source": [
    "number = 23\n",
    "if number%2==0:\n",
    "    print(number,\" is even\")\n",
    "else:\n",
    "    print(number, \"is odd\")"
   ]
  },
  {
   "cell_type": "code",
   "execution_count": 27,
   "metadata": {},
   "outputs": [
    {
     "name": "stdout",
     "output_type": "stream",
     "text": [
      "What's my favorite food?cheetos\n",
      "Yuck! That's not it!\n",
      "Thanks for playing!\n"
     ]
    }
   ],
   "source": [
    "my_favorite_food = \"Pizza\"\n",
    "user_favorite_food = input(\"What's my favorite food?\")\n",
    "\n",
    "if user_favorite_food == my_favorite_food:\n",
    "    print(\"Yep! So amazing!\")\n",
    "else:\n",
    "    print(\"Yuck! That's not it!\")\n",
    "    \n",
    "print(\"Thanks for playing!\")"
   ]
  },
  {
   "cell_type": "code",
   "execution_count": 31,
   "metadata": {},
   "outputs": [
    {
     "name": "stdout",
     "output_type": "stream",
     "text": [
      "It's just a jump to the left\n",
      "and then a step to the right!\n",
      "Put your hands on your hips\n",
      "and pull your knees in tight!\n",
      "But it's the pelvic thrust that really drives you insane!\n",
      "Let's do the timewarp again!\n",
      "Let's do the timewarp again\n",
      "Do the time warp again? yes\n",
      "It's just a jump to the left\n",
      "and then a step to the right!\n",
      "Put your hands on your hips\n",
      "and pull your knees in tight!\n",
      "But it's the pelvic thrust that really drives you insane!\n",
      "Let's do the timewarp again!\n",
      "Let's do the timewarp again\n",
      "Do the time warp again? yes\n",
      "It's just a jump to the left\n",
      "and then a step to the right!\n",
      "Put your hands on your hips\n",
      "and pull your knees in tight!\n",
      "But it's the pelvic thrust that really drives you insane!\n",
      "Let's do the timewarp again!\n",
      "Let's do the timewarp again\n",
      "Do the time warp again? yes\n",
      "It's just a jump to the left\n",
      "and then a step to the right!\n",
      "Put your hands on your hips\n",
      "and pull your knees in tight!\n",
      "But it's the pelvic thrust that really drives you insane!\n",
      "Let's do the timewarp again!\n",
      "Let's do the timewarp again\n",
      "Do the time warp again? no\n"
     ]
    }
   ],
   "source": [
    "def timewarp():\n",
    "    print(\"It's just a jump to the left\")\n",
    "    print(\"and then a step to the right!\")\n",
    "    print(\"Put your hands on your hips\")\n",
    "    print(\"and pull your knees in tight!\")\n",
    "    print(\"But it's the pelvic thrust that really drives you insane!\")\n",
    "    print(\"Let's do the timewarp again!\")\n",
    "    print(\"Let's do the timewarp again\")\n",
    "    \n",
    "    repeat = input(\"Do the time warp again? \")\n",
    "    \n",
    "    if repeat == \"yes\":\n",
    "        timewarp()\n",
    "\n",
    "timewarp()"
   ]
  },
  {
   "cell_type": "code",
   "execution_count": null,
   "metadata": {},
   "outputs": [],
   "source": []
  }
 ],
 "metadata": {
  "kernelspec": {
   "display_name": "Python 3",
   "language": "python",
   "name": "python3"
  },
  "language_info": {
   "codemirror_mode": {
    "name": "ipython",
    "version": 3
   },
   "file_extension": ".py",
   "mimetype": "text/x-python",
   "name": "python",
   "nbconvert_exporter": "python",
   "pygments_lexer": "ipython3",
   "version": "3.7.3"
  }
 },
 "nbformat": 4,
 "nbformat_minor": 2
}
